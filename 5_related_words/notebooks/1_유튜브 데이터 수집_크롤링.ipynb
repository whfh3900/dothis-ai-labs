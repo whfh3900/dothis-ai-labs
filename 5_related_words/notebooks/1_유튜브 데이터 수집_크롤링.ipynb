{
 "cells": [
  {
   "cell_type": "markdown",
   "metadata": {},
   "source": [
    "# 유튜브 조회수 기반 데이터 수집\n",
    "\n",
    "이 노트북은 기존에 수집된 유튜브 데이터에서 제공된 `video_id`를 바탕으로, 각 영상의 조회수를 크롤링하여 수집하는 과정에 중점을 둡니다. 수집된 조회수 데이터는 이후 조회수 기반의 연관어 추출을 위해 사용됩니다.\n",
    "\n",
    "## 데이터 수집 방식\n",
    "\n",
    "1. **기존 데이터 활용**: 이미 확보된 유튜브 데이터에서 각 영상의 `video_id`를 추출합니다.\n",
    "2. **조회수 수집**: 추출된 `video_id`를 통해 유튜브 영상의 조회수를 크롤링하여 수집합니다.\n",
    "3. **크롤링 방법**: YouTube 페이지를 자동으로 탐색하고, 각 영상의 조회수를 가져오는 방식으로 구현됩니다."
   ]
  },
  {
   "cell_type": "code",
   "execution_count": 2,
   "metadata": {},
   "outputs": [],
   "source": [
    "import time\n",
    "import pandas as pd\n",
    "from selenium import webdriver\n",
    "from selenium.webdriver.common.by import By\n",
    "from selenium.webdriver.chrome.service import Service\n",
    "from bs4 import BeautifulSoup\n",
    "import pandas as pd"
   ]
  },
  {
   "cell_type": "code",
   "execution_count": null,
   "metadata": {},
   "outputs": [],
   "source": [
    "# 크롬 드라이버 설정 (크롬 드라이버 경로 수정 필요)\n",
    "chrome_driver_path = 'path/to/chromedriver'  # 크롬 드라이버 경로를 설정하세요.\n",
    "service = Service(chrome_driver_path)\n",
    "driver = webdriver.Chrome(service=service)"
   ]
  },
  {
   "cell_type": "code",
   "execution_count": null,
   "metadata": {},
   "outputs": [],
   "source": [
    "def get_video_data(video_url):\n",
    "    \"\"\"\n",
    "    주어진 유튜브 비디오 URL에서 비디오 정보를 수집하는 함수입니다.\n",
    "\n",
    "    Args:\n",
    "        video_url (str): 비디오의 URL\n",
    "\n",
    "    Returns:\n",
    "        dict: 비디오 정보가 포함된 딕셔너리\n",
    "    \"\"\"\n",
    "    # 유튜브 비디오 페이지 열기\n",
    "    driver.get(video_url)\n",
    "    time.sleep(2)  # 페이지 로드 대기\n",
    "\n",
    "    # 페이지의 HTML 파싱\n",
    "    soup = BeautifulSoup(driver.page_source, 'html.parser')\n",
    "\n",
    "    # 비디오 정보 수집을 위한 딕셔너리 초기화\n",
    "    video_data = {}\n",
    "\n",
    "    # 비디오 ID 추출\n",
    "    video_data['video_id'] = video_url.split('v=')[-1]\n",
    "\n",
    "    # 조회수 추출\n",
    "    views_element = soup.find('span', class_='view-count style-scope yt-view-count-renderer')\n",
    "    video_data['video_views'] = views_element.text.strip() if views_element else None  # 조회수가 없을 경우 None\n",
    "\n",
    "    return video_data\n"
   ]
  },
  {
   "cell_type": "code",
   "execution_count": null,
   "metadata": {},
   "outputs": [],
   "source": [
    "# 유튜브 데이터 불러오기\n",
    "df = pd.read_csv(\"../data/video_sample_20241013.csv\", encoding=\"utf-8-sig\", index_col=0)\n",
    "# 비디오 URL 리스트\n",
    "df['video_urls'] = df.video_id.apply(lambda x: f'https://www.youtube.com/watch?v={x}')"
   ]
  },
  {
   "cell_type": "code",
   "execution_count": null,
   "metadata": {},
   "outputs": [],
   "source": [
    "# 비디오 데이터 수집을 위한 리스트 초기화\n",
    "video_data_list = []\n",
    "\n",
    "# 각 비디오 URL에 대해 데이터 수집\n",
    "for url in df['video_urls'] :\n",
    "    video_data = get_video_data(url)  # 비디오 데이터 수집\n",
    "    video_data_list.append(video_data)  # 수집한 데이터 리스트에 추가\n"
   ]
  },
  {
   "cell_type": "code",
   "execution_count": null,
   "metadata": {},
   "outputs": [],
   "source": [
    "# 수집된 데이터를 DataFrame으로 변환\n",
    "df = pd.DataFrame(video_data_list)\n",
    "\n",
    "# DataFrame을 CSV 파일로 저장\n",
    "df.to_csv('../data/video_sample.csv', index=False, encoding='utf-8-sig')\n"
   ]
  },
  {
   "cell_type": "code",
   "execution_count": null,
   "metadata": {},
   "outputs": [],
   "source": [
    "# 드라이버 종료\n",
    "driver.quit()"
   ]
  }
 ],
 "metadata": {
  "kernelspec": {
   "display_name": "csu",
   "language": "python",
   "name": "python3"
  },
  "language_info": {
   "codemirror_mode": {
    "name": "ipython",
    "version": 3
   },
   "file_extension": ".py",
   "mimetype": "text/x-python",
   "name": "python",
   "nbconvert_exporter": "python",
   "pygments_lexer": "ipython3",
   "version": "3.8.19"
  }
 },
 "nbformat": 4,
 "nbformat_minor": 2
}
