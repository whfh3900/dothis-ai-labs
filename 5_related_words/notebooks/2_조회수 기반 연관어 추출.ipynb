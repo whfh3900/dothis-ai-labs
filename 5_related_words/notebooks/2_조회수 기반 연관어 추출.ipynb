{
 "cells": [
  {
   "cell_type": "markdown",
   "metadata": {},
   "source": [
    "# 유튜브 조회수 기반 연관 단어 추출\n",
    "\n",
    "이 코드에서는 유튜브 조회수를 기반으로 검색할 단어에 대해 조회수가 높은 연관 단어를 출력합니다.\n",
    "\n",
    "먼저, 특정 단어가 포함된 데이터프레임을 필터링하고, 필터링된 데이터에서 각 원소별로 개수를 세어 내림차순으로 정렬합니다. 이후 각 단어에 대해 조회수를 합산하여 결과를 도출합니다.\n"
   ]
  },
  {
   "cell_type": "code",
   "execution_count": 7,
   "metadata": {},
   "outputs": [],
   "source": [
    "import pandas as pd\n",
    "import numpy as np\n",
    "from collections import Counter"
   ]
  },
  {
   "cell_type": "code",
   "execution_count": 14,
   "metadata": {},
   "outputs": [],
   "source": [
    "# 비디오 데이터 불러오기\n",
    "# use_text 컬럼은 이전에 전처리를 끝낸 컬럼\n",
    "df = pd.read_csv(\"../data/video_sample_20241013.csv\", encoding=\"utf-8-sig\", index_col=0)\n",
    "df[\"use_text\"] = df[\"use_text\"].apply(lambda x: [word.strip() for word in x.split(\",\")])"
   ]
  },
  {
   "cell_type": "code",
   "execution_count": 41,
   "metadata": {},
   "outputs": [],
   "source": [
    "# 특정 단어 정의\n",
    "target_word = \"먹방\"\n",
    "\n",
    "# 'use_text' 열에서 target_word가 포함된 행만 필터링\n",
    "filtered_df = df[df['use_text'].apply(lambda x: target_word in x)]\n",
    "\n",
    "# 필터링된 데이터에서 'use_text' 열의 리스트를 풀어서 모든 단어를 하나의 리스트로 만듭니다.\n",
    "all_words = [word for words_list in filtered_df['use_text'] for word in words_list]\n",
    "\n",
    "# 각 단어의 개수를 세어 Counter 객체 생성\n",
    "word_count = Counter(all_words)\n",
    "\n",
    "# target_word를 제외하고 나머지 단어들의 개수를 세어 딕셔너리 형태로 변환\n",
    "sorted_word_count = {word: count for word, count in word_count.items() if word != target_word}\n",
    "\n",
    "# 단어의 빈도를 기준으로 내림차순으로 정렬\n",
    "sorted_word_count = dict(sorted(sorted_word_count.items(), key=lambda item: item[1], reverse=True))\n"
   ]
  },
  {
   "cell_type": "code",
   "execution_count": 43,
   "metadata": {},
   "outputs": [
    {
     "data": {
      "text/plain": [
       "{'korea': 2609411,\n",
       " 'life': 2585560,\n",
       " '차쥐뿔': 2491825,\n",
       " '지수': 2392946,\n",
       " '제니': 2381596,\n",
       " '마크': 2379054,\n",
       " 'SUB': 2379041,\n",
       " 'flower': 2378048,\n",
       " '이영지': 2377593,\n",
       " '도경수': 2377593}"
      ]
     },
     "execution_count": 43,
     "metadata": {},
     "output_type": "execute_result"
    }
   ],
   "source": [
    "# 결과를 저장할 딕셔너리 초기화\n",
    "result = dict()\n",
    "\n",
    "# sorted_word_count에서 각 단어와 빈도를 반복\n",
    "for i, (key, value) in enumerate(sorted_word_count.items()):\n",
    "    # 해당 단어가 포함된 행을 필터링하여 새로운 DataFrame 생성\n",
    "    _df = filtered_df[filtered_df['use_text'].apply(lambda x: key in x)]\n",
    "    \n",
    "    # 필터링된 DataFrame에서 비디오 조회수를 합산\n",
    "    video_views_sum = _df[\"video_views\"].sum()\n",
    "    \n",
    "    # 조회수 합계를 정수로 변환\n",
    "    score = int(video_views_sum)\n",
    "    \n",
    "    # score가 NaN이 아닐 경우에만 결과에 추가\n",
    "    if not np.isnan(score):\n",
    "        result[key] = score\n",
    "\n",
    "# 조회수를 기준으로 내림차순 정렬\n",
    "result = dict(sorted(result.items(), key=lambda x: x[1], reverse=True))\n",
    "\n",
    "# 결과에서 상위 10개 항목만 선택\n",
    "top_10_result = dict(list(result.items())[:10])\n",
    "\n",
    "# 상위 10개 결과 출력\n",
    "top_10_result\n"
   ]
  },
  {
   "cell_type": "code",
   "execution_count": null,
   "metadata": {},
   "outputs": [],
   "source": []
  }
 ],
 "metadata": {
  "kernelspec": {
   "display_name": "csu",
   "language": "python",
   "name": "python3"
  },
  "language_info": {
   "codemirror_mode": {
    "name": "ipython",
    "version": 3
   },
   "file_extension": ".py",
   "mimetype": "text/x-python",
   "name": "python",
   "nbconvert_exporter": "python",
   "pygments_lexer": "ipython3",
   "version": "3.8.19"
  }
 },
 "nbformat": 4,
 "nbformat_minor": 2
}
